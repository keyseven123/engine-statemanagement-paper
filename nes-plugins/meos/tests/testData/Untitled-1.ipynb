{
 "cells": [
  {
   "cell_type": "code",
   "execution_count": 1,
   "metadata": {},
   "outputs": [],
   "source": [
    "from datetime import datetime\n",
    "import time\n",
    "import pandas as pd"
   ]
  },
  {
   "cell_type": "code",
   "execution_count": 4,
   "metadata": {},
   "outputs": [
    {
     "name": "stdout",
     "output_type": "stream",
     "text": [
      "             timestamp       mmsi  latitude  longitude  sog\n",
      "0  2021-01-08 00:00:00  265513270  57.05900  12.272388  0.0\n",
      "1  2021-01-08 00:00:01  219027804  55.94244  11.866278  0.0\n",
      "2  2021-01-08 00:00:01  265513270  57.05900  12.272388  0.0\n",
      "3  2021-01-08 00:00:03  219027804  55.94244  11.866278  0.0\n",
      "4  2021-01-08 00:00:04  265513270  57.05900  12.272388  0.0\n"
     ]
    }
   ],
   "source": [
    "df = pd.read_csv('aisinput.csv')\n",
    "print(df.head())"
   ]
  },
  {
   "cell_type": "code",
   "execution_count": 5,
   "metadata": {},
   "outputs": [
    {
     "name": "stdout",
     "output_type": "stream",
     "text": [
      "      timestamp       mmsi  latitude  longitude  sog\n",
      "0  1.610060e+09  265513270  57.05900  12.272388  0.0\n",
      "1  1.610060e+09  219027804  55.94244  11.866278  0.0\n",
      "2  1.610060e+09  265513270  57.05900  12.272388  0.0\n",
      "3  1.610060e+09  219027804  55.94244  11.866278  0.0\n",
      "4  1.610060e+09  265513270  57.05900  12.272388  0.0\n"
     ]
    }
   ],
   "source": [
    "df['timestamp'] = pd.to_datetime(df['timestamp'])\n",
    "df['timestamp'] = df['timestamp'].apply(lambda x: time.mktime(x.timetuple()))\n",
    "print(df.head())"
   ]
  },
  {
   "cell_type": "code",
   "execution_count": 6,
   "metadata": {},
   "outputs": [],
   "source": [
    "df.to_csv('aisinput.csv', index=False)"
   ]
  }
 ],
 "metadata": {
  "kernelspec": {
   "display_name": "Python 3",
   "language": "python",
   "name": "python3"
  },
  "language_info": {
   "codemirror_mode": {
    "name": "ipython",
    "version": 3
   },
   "file_extension": ".py",
   "mimetype": "text/x-python",
   "name": "python",
   "nbconvert_exporter": "python",
   "pygments_lexer": "ipython3",
   "version": "3.10.12"
  }
 },
 "nbformat": 4,
 "nbformat_minor": 2
}
