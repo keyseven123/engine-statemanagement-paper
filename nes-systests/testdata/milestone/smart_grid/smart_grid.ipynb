{
 "cells": [
  {
   "cell_type": "markdown",
   "metadata": {},
   "source": [
    "# Smart Grid "
   ]
  },
  {
   "cell_type": "code",
   "execution_count": 31,
   "metadata": {},
   "outputs": [
    {
     "name": "stdout",
     "output_type": "stream",
     "text": [
      "/home/tim/Documents/work/apache_flink\n"
     ]
    }
   ],
   "source": [
    "import os\n",
    "base_path = os.getcwd()\n",
    "print(base_path)"
   ]
  },
  {
   "cell_type": "code",
   "execution_count": null,
   "metadata": {},
   "outputs": [],
   "source": [
    "from pyflink.common import Configuration\n",
    "from pyflink.table import TableEnvironment, EnvironmentSettings, DataTypes, TableDescriptor, Schema\n",
    "\n",
    "# Set up the execution configuration\n",
    "configuration = Configuration()\n",
    "configuration.set_integer(\"table.exec.resource.default-parallelism\", 1)\n",
    "\n",
    "# Create the TableEnvironment in streaming mode\n",
    "t_env = TableEnvironment.create(\n",
    "    EnvironmentSettings.new_instance().in_streaming_mode().with_configuration(configuration).build()\n",
    ")\n",
    "\n",
    "# Create the input table for the smart-grid dataset\n",
    "t_env.create_temporary_table(\n",
    "    'smart_grid',\n",
    "    TableDescriptor.for_connector('filesystem')\n",
    "    .schema(\n",
    "        Schema.new_builder()\n",
    "            .column('creationTS', DataTypes.BIGINT())\n",
    "            .column('test_value', DataTypes.FLOAT())\n",
    "            .column('property', DataTypes.SMALLINT())\n",
    "            .column('plug', DataTypes.SMALLINT())\n",
    "            .column('household', DataTypes.SMALLINT())\n",
    "            .column('house', DataTypes.SMALLINT())\n",
    "            # Convert the epoch seconds to a TIMESTAMP_LTZ; multiply by 1000 to get milliseconds.\n",
    "            .column_by_expression('eventTime', \"TO_TIMESTAMP_LTZ(creationTS * 1000, 3)\")\n",
    "            .watermark('eventTime', \"eventTime\")\n",
    "            .build()\n",
    "    )\n",
    "    .option('path', f'{base_path}/data/smart_grid/smartgrid-data.csv')\n",
    "    .format('csv')\n",
    "    .build()\n",
    ")\n",
    "\n",
    "# Create the sink table for Query 1\n",
    "t_env.create_temporary_table(\n",
    "    'sink_q1',\n",
    "    TableDescriptor.for_connector('filesystem')\n",
    "    .schema(\n",
    "        Schema.new_builder()\n",
    "            .column('globalAvgLoad', DataTypes.FLOAT())\n",
    "            .column('window_start', DataTypes.BIGINT())\n",
    "            .column('window_end', DataTypes.BIGINT())\n",
    "            .build()\n",
    "    )\n",
    "    .option('path', f'{base_path}/data/smart_grid/outputs/sink_q1.csv')\n",
    "    .format('csv')\n",
    "    .build()\n",
    ")\n",
    "\n",
    "# Create the sink table for Query 2\n",
    "t_env.create_temporary_table(\n",
    "    'sink_q2',\n",
    "    TableDescriptor.for_connector('filesystem')\n",
    "    .schema(\n",
    "        Schema.new_builder()\n",
    "            .column('plug', DataTypes.SMALLINT())\n",
    "            .column('household', DataTypes.SMALLINT())\n",
    "            .column('house', DataTypes.SMALLINT())\n",
    "            .column('localAvgLoad', DataTypes.FLOAT())\n",
    "            .column('window_start', DataTypes.BIGINT())\n",
    "            .column('window_end', DataTypes.BIGINT())\n",
    "            .build()\n",
    "    )\n",
    "    .option('path', f'{base_path}/data/smart_grid/outputs/sink_q2.csv')\n",
    "    .format('csv')\n",
    "    .build()\n",
    ")\n",
    "\n",
    "# Create the sink table for Query 3\n",
    "t_env.create_temporary_table(\n",
    "    'sink_q3',\n",
    "    TableDescriptor.for_connector('filesystem')\n",
    "    .schema(\n",
    "        Schema.new_builder()\n",
    "            .column('plug', DataTypes.SMALLINT())\n",
    "            .column('household', DataTypes.SMALLINT())\n",
    "            .column('house', DataTypes.SMALLINT())\n",
    "            .column('localAvgLoad', DataTypes.FLOAT())\n",
    "            .column('window_start', DataTypes.BIGINT())\n",
    "            .column('window_end', DataTypes.BIGINT())\n",
    "            .build()\n",
    "    )\n",
    "    .option('path', f'{base_path}/data/smart_grid/outputs/sink_q3.csv')\n",
    "    .format('csv')\n",
    "    .build()\n",
    ")"
   ]
  },
  {
   "cell_type": "markdown",
   "metadata": {},
   "source": [
    "## Query1\n",
    "```cpp\n",
    "Query::from(\"sg\")\n",
    "    .window(SlidingWindow::of(EventTime(RecordCreationTs()), Seconds(3600), Seconds(1)))\n",
    "    .apply(Avg(Attribute(\"value\"))->as(Attribute(\"globalAvgLoad\")))\n",
    "    .sink(NullOutputSinkDescriptor::create());"
   ]
  },
  {
   "cell_type": "code",
   "execution_count": 37,
   "metadata": {},
   "outputs": [],
   "source": [
    "t_env.execute_sql('''\n",
    "INSERT INTO sink_q1\n",
    "SELECT \n",
    "    AVG(test_value) AS globalAvgLoad,\n",
    "    1000 * UNIX_TIMESTAMP(CAST(window_start AS STRING)) + EXTRACT(MILLISECOND FROM window_start) as `window_start`,\n",
    "    1000 * UNIX_TIMESTAMP(CAST(window_end AS STRING)) + EXTRACT(MILLISECOND FROM window_end) as `window_end`\n",
    "FROM TABLE(\n",
    "    HOP(\n",
    "         TABLE smart_grid,\n",
    "         DESCRIPTOR(eventTime),\n",
    "         INTERVAL '1' SECOND,   -- Slide interval\n",
    "         INTERVAL '1' HOUR   -- Window size (1 hour)\n",
    "    )\n",
    ")\n",
    "GROUP BY window_start, window_end;\n",
    "''').wait()"
   ]
  },
  {
   "cell_type": "markdown",
   "metadata": {},
   "source": [
    "## Query 2\n",
    "```cpp\n",
    "Query::from(\"sg\")\n",
    "    .window(SlidingWindow::of(EventTime(RecordCreationTs()), Seconds(3600), Seconds(1)))\n",
    "    .byKey(Attribute(\"plug\"), Attribute(\"household\"), Attribute(\"house\"))\n",
    "    .apply(Avg(Attribute(\"value\"))->as(Attribute(\"localAvgLoad\")))\n",
    "    .sink(NullOutputSinkDescriptor::create());"
   ]
  },
  {
   "cell_type": "code",
   "execution_count": 38,
   "metadata": {},
   "outputs": [],
   "source": [
    "# Takes around 3min 40sec \n",
    "t_env.execute_sql('''\n",
    "INSERT INTO sink_q2\n",
    "SELECT \n",
    "    plug,\n",
    "    household,\n",
    "    house,\n",
    "    AVG(test_value) AS localAvgLoad,\n",
    "    1000 * UNIX_TIMESTAMP(CAST(window_start AS STRING)) + EXTRACT(MILLISECOND FROM window_start) AS window_start,\n",
    "    1000 * UNIX_TIMESTAMP(CAST(window_end AS STRING)) + EXTRACT(MILLISECOND FROM window_end) AS window_end\n",
    "FROM TABLE(\n",
    "    HOP(\n",
    "         TABLE smart_grid,\n",
    "         DESCRIPTOR(eventTime),\n",
    "         INTERVAL '1' SECOND,   -- Slide interval\n",
    "         INTERVAL '1' HOUR      -- Window size (1 hour)\n",
    "    )\n",
    ")\n",
    "GROUP BY \n",
    "    plug, \n",
    "    household, \n",
    "    house, \n",
    "    window_start, \n",
    "    window_end;\n",
    "''').wait()"
   ]
  },
  {
   "cell_type": "markdown",
   "metadata": {},
   "source": [
    "## Query 3\n",
    "```cpp\n",
    "Query::from(\"sg\").window(SlidingWindow::of(EventTime(RecordCreationTs()), Seconds(128), Seconds(1)))\n",
    "    .byKey(Attribute(\"plug\"), Attribute(\"household\"), Attribute(\"house\"))\n",
    "    .apply(Avg(Attribute(\"value\"))->as(Attribute(\"localAvgLoad\")))\n",
    "    .sink(NullOutputSinkDescriptor::create());"
   ]
  },
  {
   "cell_type": "code",
   "execution_count": 36,
   "metadata": {},
   "outputs": [],
   "source": [
    "t_env.execute_sql('''\n",
    "INSERT INTO sink_q3\n",
    "SELECT \n",
    "    plug,\n",
    "    household,\n",
    "    house,\n",
    "    AVG(test_value) AS localAvgLoad,\n",
    "    1000 * UNIX_TIMESTAMP(CAST(window_start AS STRING)) + EXTRACT(MILLISECOND FROM window_start) AS window_start,\n",
    "    1000 * UNIX_TIMESTAMP(CAST(window_end AS STRING)) + EXTRACT(MILLISECOND FROM window_end) AS window_end\n",
    "FROM TABLE(\n",
    "    HOP(\n",
    "         TABLE smart_grid,\n",
    "         DESCRIPTOR(eventTime),\n",
    "         INTERVAL '1' SECOND,   -- Slide interval\n",
    "         INTERVAL '00:02:08' HOUR TO SECOND   -- Window size (128 seconds)\n",
    "    )\n",
    ")\n",
    "GROUP BY \n",
    "    plug, \n",
    "    household, \n",
    "    house, \n",
    "    window_start, \n",
    "    window_end;\n",
    "''').wait()"
   ]
  },
  {
   "cell_type": "markdown",
   "metadata": {},
   "source": [
    "#### Script to convert data from txt to csv"
   ]
  },
  {
   "cell_type": "code",
   "execution_count": 2,
   "metadata": {},
   "outputs": [],
   "source": [
    "import csv\n",
    "\n",
    "# Define input and output file paths\n",
    "input_file = f\"{base_path}/data/smart_grid/smartgrid-data.txt\"\n",
    "output_file = f\"{base_path}/data/smart_grid/smartgrid-data.csv\"\n",
    "\n",
    "with open(input_file, 'r') as txt_file, open(output_file, 'w', newline='') as csv_file:\n",
    "    writer = csv.writer(csv_file)\n",
    "    for line in txt_file:\n",
    "        # Split line by whitespace\n",
    "        row = line.strip().split()\n",
    "        # Write the row to CSV (all 6 columns)\n",
    "        writer.writerow(row)"
   ]
  }
 ],
 "metadata": {
  "kernelspec": {
   "display_name": ".env",
   "language": "python",
   "name": "python3"
  },
  "language_info": {
   "codemirror_mode": {
    "name": "ipython",
    "version": 3
   },
   "file_extension": ".py",
   "mimetype": "text/x-python",
   "name": "python",
   "nbconvert_exporter": "python",
   "pygments_lexer": "ipython3",
   "version": "3.11.0"
  }
 },
 "nbformat": 4,
 "nbformat_minor": 2
}
