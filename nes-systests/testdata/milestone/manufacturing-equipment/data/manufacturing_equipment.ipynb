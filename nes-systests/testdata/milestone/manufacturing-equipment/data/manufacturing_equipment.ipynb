{
 "cells": [
  {
   "cell_type": "markdown",
   "metadata": {},
   "source": [
    "# Manufacturing equipment"
   ]
  },
  {
   "cell_type": "code",
   "execution_count": 15,
   "metadata": {},
   "outputs": [
    {
     "name": "stdout",
     "output_type": "stream",
     "text": [
      "/home/tim/Documents/work/apache_flink\n"
     ]
    }
   ],
   "source": [
    "import os\n",
    "base_path = os.getcwd()\n",
    "print(base_path)"
   ]
  },
  {
   "cell_type": "code",
   "execution_count": null,
   "metadata": {},
   "outputs": [],
   "source": [
    "from pyflink.table import TableEnvironment, EnvironmentSettings, DataTypes, TableDescriptor, Schema\n",
    "from pyflink.common import Configuration\n",
    "\n",
    "# Set up the execution configuration\n",
    "configuration = Configuration()\n",
    "configuration.set_integer(\"table.exec.resource.default-parallelism\", 1)\n",
    "\n",
    "# Create the TableEnvironment in streaming mode\n",
    "t_env = TableEnvironment.create(\n",
    "    EnvironmentSettings.new_instance().in_streaming_mode().with_configuration(configuration).build()\n",
    ")\n",
    "\n",
    "# Create a temporary table for the manufacturing equipment data\n",
    "t_env.create_temporary_table(\n",
    "    'manufacturing_data',\n",
    "    TableDescriptor.for_connector('filesystem')\n",
    "    .schema(\n",
    "        Schema.new_builder()\n",
    "            .column('creationTS', DataTypes.STRING())  # Updated to STRING\n",
    "            .column('messageIndex', DataTypes.BIGINT())\n",
    "            .column('mf01', DataTypes.SMALLINT())\n",
    "            .column('mf02', DataTypes.SMALLINT())\n",
    "            .column('mf03', DataTypes.SMALLINT())\n",
    "            .column('pc13', DataTypes.SMALLINT())\n",
    "            .column('pc14', DataTypes.SMALLINT())\n",
    "            .column('pc15', DataTypes.SMALLINT())\n",
    "            .column('pc25', DataTypes.SMALLINT())\n",
    "            .column('pc26', DataTypes.SMALLINT())\n",
    "            .column('pc27', DataTypes.SMALLINT())\n",
    "            .column('res', DataTypes.SMALLINT())\n",
    "            .column('bm05', DataTypes.SMALLINT())\n",
    "            .column('bm06', DataTypes.SMALLINT())\n",
    "            # Convert the ISO 8601 string to a TIMESTAMP.\n",
    "            .column_by_expression('eventTime', \"TO_TIMESTAMP(creationTS, 'yyyy-MM-dd''T''HH:mm:ss.SSSSSSSXXX')\")\n",
    "            .watermark('eventTime', \"eventTime\")\n",
    "            .build()\n",
    "    )\n",
    "    .option('path', f'{base_path}/data/manufacturing-equiptment(DEBS)/DEBS2012-small.csv')\n",
    "    .format('csv')  # Default CSV settings; adjust options if necessary\n",
    "    .build()\n",
    ")\n",
    "\n",
    "# Create the sink table for Query 1\n",
    "t_env.create_temporary_table(\n",
    "    'sink_q1',\n",
    "    TableDescriptor.for_connector('filesystem')\n",
    "    .schema(\n",
    "        Schema.new_builder()\n",
    "            .column('avg_mf01', DataTypes.FLOAT())\n",
    "            .column('avg_mf02', DataTypes.FLOAT())\n",
    "            .column('avg_mf03', DataTypes.FLOAT())\n",
    "            .column('window_start', DataTypes.BIGINT())\n",
    "            .column('window_end', DataTypes.BIGINT())\n",
    "            .build()\n",
    "    )\n",
    "    .option('path', f'{base_path}/data/manufacturing-equiptment(DEBS)/outputs/sink_q1.csv')\n",
    "    .format('csv')\n",
    "    .build()\n",
    ")\n"
   ]
  },
  {
   "cell_type": "markdown",
   "metadata": {},
   "source": [
    "## Query 1\n",
    "```cpp\n",
    "Query::from(\"me\")\n",
    "    .window(SlidingWindow::of(EventTime(RecordCreationTs()), Seconds(60), Seconds(1)))\n",
    "    .apply(Avg(Attribute(\"mf01\"))->as(Attribute(\"avg_mf01\")), Avg(Attribute(\"mf02\"))->as(Attribute(\"avg_mf02\")), Avg(Attribute(\"mf03\"))->as(Attribute(\"avg_mf03\")))\n",
    "    .sink(NullOutputSinkDescriptor::create());\n"
   ]
  },
  {
   "cell_type": "code",
   "execution_count": 17,
   "metadata": {},
   "outputs": [],
   "source": [
    "t_env.execute_sql('''\n",
    "INSERT INTO sink_q1\n",
    "SELECT \n",
    "    AVG(mf01) AS avg_mf01,\n",
    "    AVG(mf02) AS avg_mf02,\n",
    "    AVG(mf03) AS avg_mf03,\n",
    "    1000 * UNIX_TIMESTAMP(CAST(window_start AS STRING)) + EXTRACT(MILLISECOND FROM window_start) as `window_start`,\n",
    "    1000 * UNIX_TIMESTAMP(CAST(window_end AS STRING)) + EXTRACT(MILLISECOND FROM window_end) as `window_end`\n",
    "FROM TABLE(\n",
    "    HOP(\n",
    "         TABLE manufacturing_data,\n",
    "         DESCRIPTOR(eventTime),\n",
    "         INTERVAL '1' SECOND,  -- slide interval\n",
    "         INTERVAL '60' SECOND  -- window size\n",
    "    )\n",
    ")\n",
    "GROUP BY window_start, window_end;\n",
    "''').wait()"
   ]
  },
  {
   "cell_type": "markdown",
   "metadata": {},
   "source": [
    "SchemaPtr ManufacturingEquipmentDataGenerator::getSchema() {\n",
    "    return Schema::create()\n",
    "        ->addField(\"creationTS\", BasicType::INT64)\n",
    "        ->addField(\"messageIndex\", BasicType::INT64)\n",
    "        ->addField(\"mf01\", BasicType::INT16)\n",
    "        ->addField(\"mf02\", BasicType::INT16)\n",
    "        ->addField(\"mf03\", BasicType::INT16)\n",
    "        ->addField(\"pc13\", BasicType::INT16)\n",
    "        ->addField(\"pc14\", BasicType::INT16)\n",
    "        ->addField(\"pc15\", BasicType::INT16)\n",
    "        ->addField(\"pc25\", BasicType::UINT16)\n",
    "        ->addField(\"pc26\", BasicType::UINT16)\n",
    "        ->addField(\"pc27\", BasicType::UINT16)\n",
    "        ->addField(\"res\", BasicType::UINT16)\n",
    "        ->addField(\"bm05\", BasicType::INT16)\n",
    "        ->addField(\"bm06\", BasicType::INT16);\n",
    "}\n",
    "\n",
    "== 14 Felder"
   ]
  },
  {
   "cell_type": "markdown",
   "metadata": {},
   "source": [
    "## Real schema from webiste \n",
    "\n",
    "message CDataPoint {\n",
    "required fixed64 ts     = 1; //time stamp: nanoseconds since 1st Jan 1970\n",
    "required fixed64 index  = 2; //message index\n",
    "required fixed32 mf01 = 3; //Electrical Power Main Phase 1\n",
    "required fixed32 mf02 = 4; //Electrical Power Main Phase 2\n",
    "required fixed32  mf03 = 5; //Electrical Power Main Phase 3\n",
    "required fixed32 pc13 = 6; //Anode Current Drop Detection Cell 1\n",
    "required fixed32 pc14 = 7; //Anode Current Drop Detection Cell 2\n",
    "required fixed32 pc15 = 8; //Anode Current Drop Detection Cell 3\n",
    "required uint32 pc25 = 9; //Anode Voltage Drop Detection Cell 1\n",
    "required uint32 pc26 = 10; //Anode Voltage Drop Detection Cell 2\n",
    "required uint32 pc27 = 11; //Anode Voltage Drop Detection Cell 3\n",
    "required uint32 res  = 12;\n",
    "required bool bm05  = 13; //Chem A Additive Sense\n",
    "required bool bm06  = 14; //Chem B Additive Sense\n",
    "required bool bm07  = 15; //Chem C Additive Sense\n",
    "required bool bm08  = 16; //Chem A Additive Release Valve VL26\n",
    "required bool bm09  = 17; //Chem B Additive Release Valve VL27\n",
    "required bool bm10  = 18; //Chem C Additive Release Valve VL28\n",
    "optional bool pp01  = 19;\n",
    "optional bool pp02  = 20;\n",
    "optional bool pp03  = 21;\n",
    "optional bool pp04  = 22;\n",
    "optional bool pp05  = 23;\n",
    "optional bool pp06  = 24;\n",
    "optional bool pp07  = 25;\n",
    "optional bool pp08  = 26;\n",
    "optional bool pp09  = 27;\n",
    "optional bool pp10  = 28;\n",
    "optional bool pp11  = 29;\n",
    "optional bool pp12  = 30;\n",
    "optional bool pp13  = 31;\n",
    "optional bool pp14  = 32;\n",
    "optional bool pp15  = 33;\n",
    "optional bool pp16  = 34;\n",
    "optional bool pp17  = 35;\n",
    "optional bool pp18  = 36;\n",
    "optional bool pp19  = 37;\n",
    "optional bool pp20  = 38;\n",
    "optional bool pp21  = 39;\n",
    "optional bool pp22  = 40;\n",
    "optional bool pp23  = 41;\n",
    "optional bool pp24  = 42;\n",
    "optional bool pp25  = 43;\n",
    "optional bool pp26  = 44;\n",
    "optional bool pp27  = 45;\n",
    "optional bool pp28  = 46;\n",
    "optional bool pp29  = 47;\n",
    "optional bool pp30  = 48;\n",
    "optional bool pp31  = 49;\n",
    "optional bool pp32  = 50;\n",
    "optional bool pp33  = 51;\n",
    "optional bool pp34  = 52;\n",
    "optional bool pp35  = 53;\n",
    "optional bool pp36  = 54;\n",
    "optional bool pc01  = 55;\n",
    "optional bool pc02  = 56;\n",
    "optional bool pc03  = 57;\n",
    "optional bool pc04  = 58;\n",
    "optional bool pc05  = 59;\n",
    "optional bool pc06  = 60;\n",
    "optional bool pc19  = 61;\n",
    "optional bool pc20  = 62;\n",
    "optional bool pc21  = 63;\n",
    "optional bool pc22  = 64;\n",
    "optional bool pc23  = 65;\n",
    "optional bool pc24  = 66;\n",
    "}"
   ]
  },
  {
   "cell_type": "markdown",
   "metadata": {},
   "source": [
    "2012-02-22T16:46:28.9670320+00:00\t2556001\t13056\t14406\t8119\t0071\t0193\t0150\t0000\t0000\t0000\t0000\t0\t0\t0\t0\t0\t0\t0\t0\t0\t0\t0\t0\t0\t0\t0\t0\t0\t0\t0\t0\t0\t1\t1\t0\t0\t0\t0\t0\t0\t1\t0\t0\t1\t0\t0\t0\t0\t0\t0\t0\t0\t0\t0\t0\n",
    "2012-02-22T16:46:28.9770284+00:00\t2556002\t13054\t14405\t8119\t0069\t0192\t0151\t0000\t0000\t0000\t0000\t0\t0\t0\t0\t0\t0\t0\t0\t0\t0\t0\t0\t0\t0\t0\t0\t0\t0\t0\t0\t0\t1\t1\t0\t0\t0\t0\t0\t0\t1\t0\t0\t1\t0\t0\t0\t0\t0\t0\t0\t0\t0\t0\t0\n",
    "2012-02-22T16:46:28.9870216+00:00\t2556003\t13049\t14404\t8119\t0070\t0194\t0152\t0000\t0000\t0000\t0000\t0\t0\t0\t0\t0\t0\t0\t0\t0\t0\t0\t0\t0\t0\t0\t0\t0\t0\t0\t0\t0\t1\t1\t0\t0\t0\t0\t0\t0\t1\t0\t0\t1\t0\t0\t0\t0\t0\t0\t0\t0\t0\t0\t0\n",
    "2012-02-22T16:46:28.9970430+00:00\t2556004\t13051\t14401\t8118\t0071\t0193\t0152\t0000\t0000\t0000\t0000\t0\t0\t0\t0\t0\t0\t0\t0\t0\t0\t0\t0\t0\t0\t0\t0\t0\t0\t0\t0\t0\t1\t1\t0\t0\t0\t0\t0\t0\t1\t0\t0\t1\t0\t0\t0\t0\t0\t0\t0\t0\t0\t0\t0\n",
    "2012-02-22T16:46:29.0070267+00:00\t2556005\t13049\t14397\t8116\t0069\t0191\t0156\t0000\t0000\t0000\t0000\t0\t0\t0\t0\t0\t0\t0\t0\t0\t0\t0\t0\t0\t0\t0\t0\t0\t0\t0\t0\t0\t1\t1\t0\t0\t0\t0\t0\t0\t1\t0\t0\t1\t0\t0\t0\t0\t0\t0\t0\t0\t0\t0\t0"
   ]
  },
  {
   "cell_type": "markdown",
   "metadata": {},
   "source": [
    "#### script to reformat data to csv data."
   ]
  },
  {
   "cell_type": "code",
   "execution_count": 2,
   "metadata": {},
   "outputs": [],
   "source": [
    "import csv\n",
    "\n",
    "# Update this path accordingly\n",
    "input_file = f'{base_path}/data/manufacturing-equiptment(DEBS)/DEBS2012-small.txt'\n",
    "output_file = f'{base_path}/data/manufacturing-equiptment(DEBS)/DEBS2012-small.csv'\n",
    "\n",
    "with open(input_file, 'r') as txt_file, open(output_file, 'w', newline='') as csv_file:\n",
    "    writer = csv.writer(csv_file)\n",
    "    for line in txt_file:\n",
    "        # Split the line into columns. Adjust the delimiter if needed.\n",
    "        row = line.strip().split()\n",
    "        if len(row) >= 14:\n",
    "            # Write only the first 14 columns to the CSV file.\n",
    "            writer.writerow(row[:14])"
   ]
  },
  {
   "cell_type": "markdown",
   "metadata": {},
   "source": [
    "#### Untested script to reformat whole file "
   ]
  },
  {
   "cell_type": "code",
   "execution_count": null,
   "metadata": {},
   "outputs": [],
   "source": [
    "#### UnTested script to reformat whole file \n",
    "import csv\n",
    "import sys\n",
    "\n",
    "def convert_txt_to_csv(input_file, output_file):\n",
    "    with open(input_file, 'r') as infile, open(output_file, 'w', newline='') as outfile:\n",
    "        writer = csv.writer(outfile)\n",
    "        for line in infile:\n",
    "            # Strip whitespace and split on tab\n",
    "            row = line.strip().split('\\t')\n",
    "            # Optionally skip non-data rows (e.g., if a row doesn't have 56 columns)\n",
    "            if len(row) != 56:\n",
    "                # Uncomment the next line to skip rows that do not have 56 columns\n",
    "                # continue\n",
    "                pass\n",
    "            writer.writerow(row)\n",
    "\n",
    "\n",
    "input_file = f'{base_path}/data/manufacturing-equiptment(DEBS)/DEBS2012-small.txt'\n",
    "output_file = f'{base_path}/data/manufacturing-equiptment(DEBS)/DEBS2012-small.csv'\n",
    "\n",
    "convert_txt_to_csv(input_file, output_file)"
   ]
  }
 ],
 "metadata": {
  "kernelspec": {
   "display_name": ".env",
   "language": "python",
   "name": "python3"
  },
  "language_info": {
   "codemirror_mode": {
    "name": "ipython",
    "version": 3
   },
   "file_extension": ".py",
   "mimetype": "text/x-python",
   "name": "python",
   "nbconvert_exporter": "python",
   "pygments_lexer": "ipython3",
   "version": "3.11.0"
  }
 },
 "nbformat": 4,
 "nbformat_minor": 2
}
