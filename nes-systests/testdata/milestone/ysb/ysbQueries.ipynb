{
 "cells": [
  {
   "cell_type": "markdown",
   "metadata": {},
   "source": [
    "# YSB"
   ]
  },
  {
   "cell_type": "code",
   "execution_count": 1,
   "metadata": {},
   "outputs": [
    {
     "name": "stdout",
     "output_type": "stream",
     "text": [
      "/home/tim/Documents/work/apache_flink\n"
     ]
    }
   ],
   "source": [
    "import os\n",
    "base_path = os.getcwd()\n",
    "print(base_path)"
   ]
  },
  {
   "cell_type": "code",
   "execution_count": 2,
   "metadata": {},
   "outputs": [],
   "source": [
    "from pyflink.common import Configuration\n",
    "from pyflink.table import TableEnvironment, EnvironmentSettings, DataTypes, TableDescriptor, Schema\n",
    "\n",
    "# Set up the execution configuration\n",
    "configuration = Configuration()\n",
    "configuration.set_integer(\"table.exec.resource.default-parallelism\", 1)\n",
    "\n",
    "# Create the TableEnvironment in streaming mode\n",
    "t_env = TableEnvironment.create(\n",
    "    EnvironmentSettings.new_instance().in_streaming_mode().with_configuration(configuration).build()\n",
    ")\n",
    "\n",
    "\n",
    "# Create the input table for the YSB dataset\n",
    "t_env.create_temporary_table(\n",
    "    'ysb_input',\n",
    "    TableDescriptor.for_connector('filesystem')\n",
    "    .schema(\n",
    "        Schema.new_builder()\n",
    "            .column('user_id', DataTypes.BIGINT())\n",
    "            .column('page_id', DataTypes.BIGINT())\n",
    "            .column('campaign_id', DataTypes.BIGINT())\n",
    "            .column('ad_type', DataTypes.BIGINT())\n",
    "            .column('event_type', DataTypes.BIGINT())\n",
    "            .column('current_ms', DataTypes.BIGINT())\n",
    "            .column('ip', DataTypes.BIGINT())\n",
    "            .column('d1', DataTypes.BIGINT())\n",
    "            .column('d2', DataTypes.BIGINT())\n",
    "            .column('d3', DataTypes.INT())\n",
    "            .column('d4', DataTypes.SMALLINT())\n",
    "            # Convert current_ms (in milliseconds) to a TIMESTAMP_LTZ column named eventTime\n",
    "            .column_by_expression('eventTime', \"TO_TIMESTAMP_LTZ(current_ms, 3)\")\n",
    "            .watermark('eventTime', \"eventTime\")\n",
    "            .build()\n",
    "    )\n",
    "    .option('path', f'{base_path}/data/ysb/ysb_data.csv')\n",
    "    .format('csv')\n",
    "    .build()\n",
    ")\n",
    "\n",
    "t_env.create_temporary_table(\n",
    "    'sink_q1',\n",
    "    TableDescriptor.for_connector('filesystem')\n",
    "    .schema(\n",
    "        Schema.new_builder()\n",
    "            .column('campaign_id', DataTypes.BIGINT())\n",
    "            .column('sum_user_id', DataTypes.BIGINT())\n",
    "            .column('window_start', DataTypes.BIGINT())\n",
    "            .column('window_end', DataTypes.BIGINT())\n",
    "            .build()\n",
    "    )\n",
    "    .option('path', f'{base_path}/data/ysb/outputs/sink_q1.csv')\n",
    "    .format('csv')\n",
    "    .build()\n",
    ")\n"
   ]
  },
  {
   "cell_type": "markdown",
   "metadata": {},
   "source": [
    "## YSB Query (Query1)\n",
    "```cpp\n",
    "Query::from(\"ysb\")\n",
    "    .filter(Attribute(\"event_type\") < 1)\n",
    "    .window(TumblingWindow::of(EventTime(Attribute(\"current_ms\")), Seconds(30))).byKey(Attribute(\"campaign_id\"))\n",
    "    .apply(Sum(Attribute(\"user_id\")))\n",
    "    .sink(NullOutputSinkDescriptor::create());"
   ]
  },
  {
   "cell_type": "code",
   "execution_count": 3,
   "metadata": {},
   "outputs": [],
   "source": [
    "t_env.execute_sql('''\n",
    "INSERT INTO sink_q1\n",
    "SELECT \n",
    "    campaign_id,\n",
    "    SUM(user_id) AS sum_user_id,\n",
    "    1000 * UNIX_TIMESTAMP(CAST(window_start AS STRING)) + EXTRACT(MILLISECOND FROM window_start) AS window_start,\n",
    "    1000 * UNIX_TIMESTAMP(CAST(window_end AS STRING)) + EXTRACT(MILLISECOND FROM window_end) AS window_end\n",
    "FROM TABLE(\n",
    "    TUMBLE(\n",
    "         TABLE ysb_input,\n",
    "         DESCRIPTOR(eventTime),\n",
    "         INTERVAL '30' SECOND\n",
    "    )\n",
    ")\n",
    "WHERE event_type < 1\n",
    "GROUP BY campaign_id, window_start, window_end;\n",
    "''').wait()"
   ]
  },
  {
   "cell_type": "markdown",
   "metadata": {},
   "source": [
    "#### Script to generate ysb test data "
   ]
  },
  {
   "cell_type": "code",
   "execution_count": null,
   "metadata": {},
   "outputs": [
    {
     "name": "stdout",
     "output_type": "stream",
     "text": [
      "CSV file '/home/tim/Documents/work/apache_flink/data/ysb/ysb_data.csv' with 10000 rows generated successfully.\n"
     ]
    }
   ],
   "source": [
    "import csv\n",
    "import random\n",
    "from datetime import datetime, timedelta\n",
    "\n",
    "def generate_timestamp(start_ts, end_ts):\n",
    "    \"\"\"Generate a random timestamp in milliseconds between start_ts and end_ts.\"\"\"\n",
    "    delta = end_ts - start_ts\n",
    "    random_offset = random.randint(0, int(delta.total_seconds() * 1000))\n",
    "    random_time = start_ts + timedelta(milliseconds=random_offset)\n",
    "    return int(random_time.timestamp() * 1000)\n",
    "\n",
    "def generate_csv(output_file, num_rows):\n",
    "    # Define a start and end time for event timestamps (simulate a one-day period)\n",
    "    start_time = datetime(2020, 1, 1)\n",
    "    end_time = start_time + timedelta(days=1)\n",
    "    \n",
    "    # Open CSV file for writing\n",
    "    with open(output_file, mode='w', newline='') as csvfile:\n",
    "        writer = csv.writer(csvfile)\n",
    "        # Write header row\n",
    "        writer.writerow([\"user_id\", \"page_id\", \"campaign_id\", \"ad_type\", \"event_type\",\n",
    "                         \"current_ms\", \"ip\", \"d1\", \"d2\", \"d3\", \"d4\"])\n",
    "        # Generate synthetic data rows\n",
    "        for i in range(1, num_rows + 1):\n",
    "            user_id = i  # Sequential user IDs\n",
    "            page_id = random.randint(1, 10**6)\n",
    "            campaign_id = random.randint(1, 500)\n",
    "            ad_type = random.randint(0, 3)  # Example ad types: 0, 1, 2, or 3\n",
    "            # event_type: 80% view (0), 15% click (1), 5% purchase (2)\n",
    "            event_type = random.choices([0, 1, 2], weights=[80, 15, 5], k=1)[0]\n",
    "            current_ms = generate_timestamp(start_time, end_time)\n",
    "            ip = random.randint(0, 2**32 - 1)  # Simulated as a 32-bit integer\n",
    "            d1 = random.randint(0, 2**64 - 1)\n",
    "            d2 = random.randint(0, 2**64 - 1)\n",
    "            d3 = random.randint(0, 2**32 - 1)\n",
    "            d4 = random.randint(0, 2**16 - 1)\n",
    "            writer.writerow([user_id, page_id, campaign_id, ad_type, event_type,\n",
    "                             current_ms, ip, d1, d2, d3, d4])\n",
    "            \n",
    "    print(f\"CSV file '{output_file}' with {num_rows} rows generated successfully.\")\n",
    "\n",
    "# Specify your output path and number of rows here:\n",
    "output_path = f\"{base_path}/data/ysb/ysb_data.csv\"  # Change this path if you want the file saved elsewhere.\n",
    "num_rows = 10000  # Change the number of rows as needed\n",
    "\n",
    "# Generate the CSV file\n",
    "generate_csv(output_path, num_rows)\n",
    "# May need to remove first line of file so it works with aache flink"
   ]
  }
 ],
 "metadata": {
  "kernelspec": {
   "display_name": ".env",
   "language": "python",
   "name": "python3"
  },
  "language_info": {
   "codemirror_mode": {
    "name": "ipython",
    "version": 3
   },
   "file_extension": ".py",
   "mimetype": "text/x-python",
   "name": "python",
   "nbconvert_exporter": "python",
   "pygments_lexer": "ipython3",
   "version": "3.11.0"
  }
 },
 "nbformat": 4,
 "nbformat_minor": 2
}
