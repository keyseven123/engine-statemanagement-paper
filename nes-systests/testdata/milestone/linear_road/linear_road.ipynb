{
 "cells": [
  {
   "cell_type": "markdown",
   "metadata": {},
   "source": [
    "# Linear Road Benchmark"
   ]
  },
  {
   "cell_type": "code",
   "execution_count": 1,
   "metadata": {},
   "outputs": [
    {
     "name": "stdout",
     "output_type": "stream",
     "text": [
      "/home/tim/Documents/work/apache_flink\n"
     ]
    }
   ],
   "source": [
    "import os\n",
    "base_path = os.getcwd()\n",
    "print(base_path)"
   ]
  },
  {
   "cell_type": "code",
   "execution_count": null,
   "metadata": {},
   "outputs": [],
   "source": [
    "from pyflink.table import TableEnvironment, EnvironmentSettings, DataTypes, TableDescriptor, Schema\n",
    "from pyflink.common import Configuration\n",
    "\n",
    "# Set up the execution configuration\n",
    "configuration = Configuration()\n",
    "configuration.set_integer(\"table.exec.resource.default-parallelism\", 1)\n",
    "\n",
    "# Create the TableEnvironment in streaming mode\n",
    "t_env = TableEnvironment.create(\n",
    "    EnvironmentSettings.new_instance().in_streaming_mode().with_configuration(configuration).build()\n",
    ")\n",
    "\n",
    "# Create a temporary table for Linear Road data\n",
    "t_env.create_temporary_table(\n",
    "    'lrb',\n",
    "    TableDescriptor.for_connector('filesystem')\n",
    "    .schema(\n",
    "        Schema.new_builder()\n",
    "            .column('creationTS', DataTypes.BIGINT())\n",
    "            .column('vehicle', DataTypes.SMALLINT())\n",
    "            .column('speed', DataTypes.FLOAT())\n",
    "            .column('highway', DataTypes.SMALLINT())\n",
    "            .column('lane', DataTypes.SMALLINT())\n",
    "            .column('direction', DataTypes.SMALLINT())\n",
    "            .column('position', DataTypes.INT())\n",
    "            .column_by_expression('eventTime', \"TO_TIMESTAMP_LTZ(creationTS, 3)\")\n",
    "            .watermark('eventTime', \"eventTime\")\n",
    "            .build()\n",
    "    )\n",
    "    .option('path', f'{base_path}/data/linear_road/lrb-data-small-ht.csv')\n",
    "    .format('csv')  # Default CSV delimiter is comma\n",
    "    .build()\n",
    ")\n",
    "\n",
    "\n",
    "t_env.create_temporary_table(\n",
    "    'sink_q1',\n",
    "    TableDescriptor.for_connector('filesystem')\n",
    "    .schema(\n",
    "        Schema.new_builder()\n",
    "            .column('highway', DataTypes.SMALLINT())\n",
    "            .column('direction', DataTypes.SMALLINT())\n",
    "            .column('pos_div', DataTypes.FLOAT())\n",
    "            .column('avgSpeed', DataTypes.FLOAT())\n",
    "            .column('window_start', DataTypes.BIGINT())\n",
    "            .column('window_end', DataTypes.BIGINT())\n",
    "            .build()\n",
    "    )\n",
    "    .option('path', f'{base_path}/data/linear_road/outputs/sink_q1.csv')\n",
    "    .format('csv')\n",
    "    .build()\n",
    ")\n",
    "\n",
    "t_env.create_temporary_table(\n",
    "    'sink_q2',\n",
    "    TableDescriptor.for_connector('filesystem')\n",
    "    .schema(\n",
    "         Schema.new_builder()\n",
    "           .column('vehicle', DataTypes.SMALLINT())      # or INT if preferred\n",
    "           .column('highway', DataTypes.SMALLINT())\n",
    "           .column('direction', DataTypes.SMALLINT())\n",
    "           .column('pos_div', DataTypes.FLOAT())\n",
    "           .column('cntSpeed', DataTypes.BIGINT())         # COUNT(*) returns BIGINT\n",
    "           .column('window_start', DataTypes.BIGINT())\n",
    "           .column('window_end', DataTypes.BIGINT())\n",
    "           .build()\n",
    "    )\n",
    "    .option('path', f'{base_path}/data/linear_road/outputs/sink_q2.csv')\n",
    "    .format('csv')\n",
    "    .build()\n",
    ")"
   ]
  },
  {
   "cell_type": "markdown",
   "metadata": {},
   "source": [
    "## Query 1\n",
    "```cpp\n",
    "Query::from(\"lrb\")\n",
    "    .map(Attribute(\"position\") = Attribute(\"position\")/5280)\n",
    "    .window(SlidingWindow::of(EventTime(RecordCreationTs()), Seconds(300), Seconds(1)))\n",
    "    .byKey(Attribute(\"highway\"), Attribute(\"direction\"), Attribute(\"position\"))\n",
    "    .apply(Avg(Attribute(\"speed\"))->as(Attribute(\"avgSpeed\")))\n",
    "    .filter(Attribute(\"avgSpeed\") < 40)\n",
    "    .sink(NullOutputSinkDescriptor::create());"
   ]
  },
  {
   "cell_type": "code",
   "execution_count": 3,
   "metadata": {},
   "outputs": [],
   "source": [
    "t_env.execute_sql(\"\"\"\n",
    "INSERT INTO sink_q1\n",
    "WITH computed_lrb AS (\n",
    "    SELECT \n",
    "        highway,\n",
    "        direction,\n",
    "        (`position` / 5280.0) AS pos_div,\n",
    "        speed,\n",
    "        eventTime\n",
    "    FROM lrb\n",
    ")\n",
    "SELECT \n",
    "    highway,\n",
    "    direction,\n",
    "    pos_div,\n",
    "    AVG(speed) AS avgSpeed,\n",
    "    1000 * UNIX_TIMESTAMP(CAST(window_start AS STRING)) + EXTRACT(MILLISECOND FROM window_start) as `window_start`,\n",
    "    1000 * UNIX_TIMESTAMP(CAST(window_end AS STRING)) + EXTRACT(MILLISECOND FROM window_end) as `window_end`\n",
    "FROM TABLE(\n",
    "    HOP(\n",
    "         TABLE computed_lrb,\n",
    "         DESCRIPTOR(eventTime),\n",
    "         INTERVAL '1' SECOND,  -- slide interval\n",
    "         INTERVAL '5' MINUTE   -- window size (equivalent to 300 seconds)\n",
    "    )\n",
    ")\n",
    "GROUP BY highway, direction, pos_div, window_start, window_end\n",
    "HAVING AVG(speed) < 40\n",
    "\"\"\").wait()"
   ]
  },
  {
   "cell_type": "markdown",
   "metadata": {},
   "source": [
    "## Query 2\n",
    "```cpp\n",
    "Query::from(\"lrb\")\n",
    "    .map(Attribute(\"position\") = Attribute(\"position\")/5280)\n",
    "    .window(SlidingWindow::of(EventTime(RecordCreationTs()), Seconds(30), Seconds(1)))\n",
    "    .byKey(Attribute(\"vehicle\"), Attribute(\"highway\"), Attribute(\"direction\"), Attribute(\"position\"))\n",
    "    .apply(Count()->as(Attribute(\"cntSpeed\")))\n",
    "    .sink(NullOutputSinkDescriptor::create());"
   ]
  },
  {
   "cell_type": "code",
   "execution_count": 4,
   "metadata": {},
   "outputs": [],
   "source": [
    "t_env.execute_sql(\"\"\"\n",
    "INSERT INTO sink_q2\n",
    "WITH computed_lrb AS (\n",
    "    SELECT \n",
    "        vehicle,\n",
    "        highway,\n",
    "        direction,\n",
    "        (`position` / 5280.0) AS pos_div,\n",
    "        eventTime\n",
    "    FROM lrb\n",
    ")\n",
    "SELECT \n",
    "    vehicle,\n",
    "    highway,\n",
    "    direction,\n",
    "    pos_div,\n",
    "    COUNT(*) AS cntSpeed,\n",
    "    1000 * UNIX_TIMESTAMP(CAST(window_start AS STRING)) + EXTRACT(MILLISECOND FROM window_start) as `window_start`,\n",
    "    1000 * UNIX_TIMESTAMP(CAST(window_end AS STRING)) + EXTRACT(MILLISECOND FROM window_end) as `window_end`\n",
    "FROM TABLE(\n",
    "    HOP(\n",
    "         TABLE computed_lrb,\n",
    "         DESCRIPTOR(eventTime),\n",
    "         INTERVAL '1' SECOND,\n",
    "         INTERVAL '30' SECOND\n",
    "    )\n",
    ")\n",
    "GROUP BY \n",
    "    vehicle,\n",
    "    highway,\n",
    "    direction,\n",
    "    pos_div,\n",
    "    window_start,\n",
    "    window_end\n",
    "\"\"\").wait()"
   ]
  },
  {
   "cell_type": "markdown",
   "metadata": {},
   "source": [
    "#### Rewrite txt input file to csv"
   ]
  },
  {
   "cell_type": "code",
   "execution_count": 1,
   "metadata": {},
   "outputs": [],
   "source": [
    "import csv\n",
    "import os\n",
    "\n",
    "# Define the base path and file paths\n",
    "base_path = '/home/tim/Documents/work/apache_flink'\n",
    "input_file = os.path.join(base_path, 'data/linear_road/lrb-data-small-ht.txt')\n",
    "output_file = os.path.join(base_path, 'data/linear_road/lrb-data-small-ht.csv')\n",
    "\n",
    "with open(input_file, 'r') as infile, open(output_file, 'w', newline='') as outfile:\n",
    "    writer = csv.writer(outfile)\n",
    "    for line in infile:\n",
    "        # Split on any whitespace (handles multiple spaces/tabs)\n",
    "        row = line.strip().split()\n",
    "        if len(row) == 7:\n",
    "            writer.writerow(row)\n",
    "        else:\n",
    "            print(\"Skipping line with unexpected number of columns:\", line)"
   ]
  }
 ],
 "metadata": {
  "kernelspec": {
   "display_name": ".env",
   "language": "python",
   "name": "python3"
  },
  "language_info": {
   "codemirror_mode": {
    "name": "ipython",
    "version": 3
   },
   "file_extension": ".py",
   "mimetype": "text/x-python",
   "name": "python",
   "nbconvert_exporter": "python",
   "pygments_lexer": "ipython3",
   "version": "3.11.0"
  }
 },
 "nbformat": 4,
 "nbformat_minor": 2
}
