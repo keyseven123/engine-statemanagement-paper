{
 "cells": [
  {
   "cell_type": "code",
   "execution_count": 1,
   "id": "de611332-173b-40a9-98e6-12c727c4a7df",
   "metadata": {},
   "outputs": [],
   "source": [
    "import seaborn as sns\n",
    "import matplotlib.pyplot as plt\n",
    "import pandas as pd\n",
    "import numpy as np\n",
    "import os\n",
    "import re\n",
    "import yaml\n",
    "import shutil\n",
    "from datetime import datetime\n",
    "\n",
    "sns.set_theme()"
   ]
  },
  {
   "cell_type": "code",
   "execution_count": null,
   "id": "5f92884a-fd1a-4632-a066-62f20eba1d3d",
   "metadata": {},
   "outputs": [],
   "source": [
    "### All global variables that would be passed as arguments in a python script\n",
    "micro_benchmarks_data = \"/home/nils/Documents/TU_Berlin/Work_DIMA/NES/nebulastream-public/window_management/benchmark_scripts/micro-benchmarks-data\"\n",
    "input_csv_file = f\"{micro_benchmarks_data}/benchmark_task_size_180142.csv\"\n",
    "output_folder_plots = f\"{micro_benchmarks_data}\"\n"
   ]
  }
 ],
 "metadata": {
  "kernelspec": {
   "display_name": "Python 3 (ipykernel)",
   "language": "python",
   "name": "python3"
  },
  "language_info": {
   "codemirror_mode": {
    "name": "ipython",
    "version": 3
   },
   "file_extension": ".py",
   "mimetype": "text/x-python",
   "name": "python",
   "nbconvert_exporter": "python",
   "pygments_lexer": "ipython3",
   "version": "3.10.12"
  }
 },
 "nbformat": 4,
 "nbformat_minor": 5
}
